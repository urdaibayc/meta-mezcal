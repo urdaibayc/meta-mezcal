{
 "cells": [
  {
   "cell_type": "code",
   "execution_count": 2,
   "metadata": {},
   "outputs": [],
   "source": [
    "from serpapi import GoogleScholarSearch\n",
    "from serpapi import GoogleSearch"
   ]
  },
  {
   "cell_type": "code",
   "execution_count": 43,
   "metadata": {},
   "outputs": [],
   "source": [
    "import csv"
   ]
  },
  {
   "cell_type": "markdown",
   "metadata": {},
   "source": [
    "## General search\n",
    "Test our first search"
   ]
  },
  {
   "cell_type": "code",
   "execution_count": 6,
   "metadata": {},
   "outputs": [
    {
     "name": "stdout",
     "output_type": "stream",
     "text": [
      "https://serpapi.com/search\n"
     ]
    }
   ],
   "source": [
    "\n",
    "\n",
    "params = {\n",
    "  \"api_key\": \"\",\n",
    "  \"engine\": \"google_scholar\",\n",
    "  \"start\": \"0\",\n",
    "  \"as_ylo\": \"1990\",\n",
    "  \"q\": \"mezcal\",\n",
    "  \"as_sdt\": \"0\",\n",
    "  \"scisbd\": \"1\"\n",
    "}\n",
    "\n",
    "search = GoogleSearch(params)\n",
    "results = search.get_dict()\n"
   ]
  },
  {
   "cell_type": "code",
   "execution_count": 34,
   "metadata": {},
   "outputs": [
    {
     "ename": "TypeError",
     "evalue": "'GoogleSearch' object is not subscriptable",
     "output_type": "error",
     "traceback": [
      "\u001b[0;31m---------------------------------------------------------------------------\u001b[0m",
      "\u001b[0;31mTypeError\u001b[0m                                 Traceback (most recent call last)",
      "Input \u001b[0;32mIn [34]\u001b[0m, in \u001b[0;36m<module>\u001b[0;34m\u001b[0m\n\u001b[0;32m----> 1\u001b[0m \u001b[38;5;28;01massert\u001b[39;00m \u001b[43msearch\u001b[49m\u001b[43m[\u001b[49m\u001b[38;5;124;43m\"\u001b[39;49m\u001b[38;5;124;43merror\u001b[39;49m\u001b[38;5;124;43m\"\u001b[39;49m\u001b[43m]\u001b[49m \u001b[38;5;241m==\u001b[39m \u001b[38;5;28;01mNone\u001b[39;00m\n",
      "\u001b[0;31mTypeError\u001b[0m: 'GoogleSearch' object is not subscriptable"
     ]
    }
   ],
   "source": [
    "assert search[\"error\"] == None"
   ]
  },
  {
   "cell_type": "code",
   "execution_count": 36,
   "metadata": {},
   "outputs": [
    {
     "data": {
      "text/plain": [
       "'Success'"
      ]
     },
     "execution_count": 36,
     "metadata": {},
     "output_type": "execute_result"
    }
   ],
   "source": [
    "results['search_metadata']['status']"
   ]
  },
  {
   "cell_type": "code",
   "execution_count": 8,
   "metadata": {},
   "outputs": [
    {
     "data": {
      "text/plain": [
       "dict_keys(['search_metadata', 'search_parameters', 'search_information', 'organic_results', 'related_searches', 'pagination', 'serpapi_pagination'])"
      ]
     },
     "execution_count": 8,
     "metadata": {},
     "output_type": "execute_result"
    }
   ],
   "source": [
    "results.keys()"
   ]
  },
  {
   "cell_type": "markdown",
   "metadata": {},
   "source": [
    "### We expect to have 10 items since no parameter was changed"
   ]
  },
  {
   "cell_type": "code",
   "execution_count": 13,
   "metadata": {},
   "outputs": [
    {
     "data": {
      "text/plain": [
       "10"
      ]
     },
     "execution_count": 13,
     "metadata": {},
     "output_type": "execute_result"
    }
   ],
   "source": [
    "len(results['organic_results'])"
   ]
  },
  {
   "cell_type": "markdown",
   "metadata": {},
   "source": [
    "### Search metadata"
   ]
  },
  {
   "cell_type": "code",
   "execution_count": 18,
   "metadata": {},
   "outputs": [
    {
     "data": {
      "text/plain": [
       "{'id': '62181f7e36e6a962bda5483f',\n",
       " 'status': 'Success',\n",
       " 'json_endpoint': 'https://serpapi.com/searches/5cd13e15a0204f40/62181f7e36e6a962bda5483f.json',\n",
       " 'created_at': '2022-02-25 00:14:54 UTC',\n",
       " 'processed_at': '2022-02-25 00:14:54 UTC',\n",
       " 'google_scholar_url': 'https://scholar.google.com/scholar?q=mezcal&hl=en&start=0&as_ylo=1990&scisbd=1&as_sdt=0',\n",
       " 'raw_html_file': 'https://serpapi.com/searches/5cd13e15a0204f40/62181f7e36e6a962bda5483f.html',\n",
       " 'total_time_taken': 3.06}"
      ]
     },
     "execution_count": 18,
     "metadata": {},
     "output_type": "execute_result"
    }
   ],
   "source": [
    "results[\"search_metadata\"]"
   ]
  },
  {
   "cell_type": "markdown",
   "metadata": {},
   "source": [
    "### Search parameters"
   ]
  },
  {
   "cell_type": "code",
   "execution_count": 19,
   "metadata": {},
   "outputs": [
    {
     "data": {
      "text/plain": [
       "{'engine': 'google_scholar',\n",
       " 'q': 'mezcal',\n",
       " 'hl': 'en',\n",
       " 'start': 0,\n",
       " 'as_ylo': '1990',\n",
       " 'scisbd': '1',\n",
       " 'as_sdt': '0'}"
      ]
     },
     "execution_count": 19,
     "metadata": {},
     "output_type": "execute_result"
    }
   ],
   "source": [
    "results[\"search_parameters\"]"
   ]
  },
  {
   "cell_type": "markdown",
   "metadata": {},
   "source": [
    "### Search information"
   ]
  },
  {
   "cell_type": "code",
   "execution_count": 20,
   "metadata": {},
   "outputs": [
    {
     "data": {
      "text/plain": [
       "{'organic_results_state': 'Results for exact spelling',\n",
       " 'total_results': 82,\n",
       " 'time_taken_displayed': 0.02,\n",
       " 'query_displayed': 'mezcal'}"
      ]
     },
     "execution_count": 20,
     "metadata": {},
     "output_type": "execute_result"
    }
   ],
   "source": [
    "results[\"search_information\"]"
   ]
  },
  {
   "cell_type": "markdown",
   "metadata": {},
   "source": [
    "### Organic results"
   ]
  },
  {
   "cell_type": "code",
   "execution_count": 28,
   "metadata": {},
   "outputs": [
    {
     "data": {
      "text/plain": [
       "[{'position': 0,\n",
       "  'title': 'La inocuidad y denominación de origen del mezcal mexicano en su proceso de internacionalización en el marco de sustentabilidad',\n",
       "  'result_id': 'pI9bDyT9_vsJ',\n",
       "  'link': 'https://periodicos.undb.edu.br/index.php/ceds/article/view/22',\n",
       "  'snippet': '16 days ago - El documento destaca la importancia de los procesos de certificación para la competitividad de aquellos productos vinculados con el mercado internacional. Es el caso …',\n",
       "  'publication_info': {'summary': 'MIF Salazar, YS Torres - Revista do CEDS, 2022 - periodicos.undb.edu.br'},\n",
       "  'resources': [{'title': 'undb.edu.br',\n",
       "    'file_format': 'PDF',\n",
       "    'link': 'https://periodicos.undb.edu.br/index.php/ceds/article/download/22/13'}],\n",
       "  'inline_links': {'serpapi_cite_link': 'https://serpapi.com/search.json?engine=google_scholar_cite&q=pI9bDyT9_vsJ',\n",
       "   'cached_page_link': 'https://scholar.googleusercontent.com/scholar?q=cache:pI9bDyT9_vsJ:scholar.google.com/+mezcal&hl=en&scisbd=1&as_sdt=0,10'}},\n",
       " {'position': 1,\n",
       "  'title': 'Análisis de la competitividad exportadora de los productores de mezcal de Oaxaca y Michoacán (México) al mercado de los Estados Unidos',\n",
       "  'result_id': '1oycV3Tc2FsJ',\n",
       "  'type': 'Pdf',\n",
       "  'link': 'https://scholar.archive.org/work/5zawvkhzerextierb3uav7p2ni/access/wayback/https://revistaespacios.com/a21v42n21/a21v42n21p02.pdf',\n",
       "  'snippet': '27 days ago - El objetivo de esta investigación fue conocer las variables que incidieron en la competitividad exportadora de las MIPYMES productoras de mezcal de los estados de …',\n",
       "  'publication_info': {'summary': 'SG Esteban, AVJ Víctor - scholar.archive.org'},\n",
       "  'resources': [{'title': 'archive.org',\n",
       "    'file_format': 'PDF',\n",
       "    'link': 'https://scholar.archive.org/work/5zawvkhzerextierb3uav7p2ni/access/wayback/https://revistaespacios.com/a21v42n21/a21v42n21p02.pdf'}],\n",
       "  'inline_links': {'serpapi_cite_link': 'https://serpapi.com/search.json?engine=google_scholar_cite&q=1oycV3Tc2FsJ',\n",
       "   'related_pages_link': 'https://scholar.google.com/scholar?q=related:1oycV3Tc2FsJ:scholar.google.com/&scioq=mezcal&hl=en&scisbd=1&as_sdt=0,10',\n",
       "   'cached_page_link': 'https://scholar.googleusercontent.com/scholar?q=cache:1oycV3Tc2FsJ:scholar.google.com/+mezcal&hl=en&scisbd=1&as_sdt=0,10'}},\n",
       " {'position': 2,\n",
       "  'title': 'Identification of genes related to hydrolysis and assimilation of Agave fructans in Candida apicola NRRL Y-50540 and Torulaspora delbrueckii NRRL Y-50541 by de …',\n",
       "  'result_id': 'XMP1c7i3j7oJ',\n",
       "  'link': 'https://academic.oup.com/femsyr/advance-article-abstract/doi/10.1093/femsyr/foac005/6515945',\n",
       "  'snippet': '28 days ago - Fructans are the main sugar in agave pine used by yeasts during mezcal fermentation processes, from which Candida apicola NRRL Y-50540 and Torulaspora …',\n",
       "  'publication_info': {'summary': 'LA Muñoz-Miranda, A Pereira-Santana… - FEMS Yeast …, 2022 - academic.oup.com',\n",
       "   'authors': [{'name': 'A Pereira-Santana',\n",
       "     'link': 'https://scholar.google.com/citations?user=Xxj_R_QAAAAJ&hl=en&oi=sra',\n",
       "     'serpapi_scholar_link': 'https://serpapi.com/search.json?author_id=Xxj_R_QAAAAJ&engine=google_scholar_author&hl=en',\n",
       "     'author_id': 'Xxj_R_QAAAAJ'}]},\n",
       "  'inline_links': {'serpapi_cite_link': 'https://serpapi.com/search.json?engine=google_scholar_cite&q=XMP1c7i3j7oJ',\n",
       "   'versions': {'total': 2,\n",
       "    'link': 'https://scholar.google.com/scholar?cluster=13443165415571571548&hl=en&scisbd=1&as_sdt=0,10',\n",
       "    'cluster_id': '13443165415571571548',\n",
       "    'serpapi_scholar_link': 'https://serpapi.com/search.json?as_sdt=0%2C10&cluster=13443165415571571548&engine=google_scholar&hl=en&scisbd=1'}}},\n",
       " {'position': 3,\n",
       "  'title': 'OPEN THE BOTTLE',\n",
       "  'result_id': 'CJ9_6qp4tr0J',\n",
       "  'link': 'https://www.degruyter.com/document/doi/10.7560/320242-001/html',\n",
       "  'snippet': '36 days ago - I can remember the world before television. I am writing this sentence on a computer. I was born in an eighty-yearold Illinois stone house seventeen days before the atomic …',\n",
       "  'publication_info': {'summary': 'C Bowden - Mezcal, 2022 - degruyter.com'},\n",
       "  'inline_links': {'serpapi_cite_link': 'https://serpapi.com/search.json?engine=google_scholar_cite&q=CJ9_6qp4tr0J'}},\n",
       " {'position': 4,\n",
       "  'title': 'SOME DEBTS',\n",
       "  'result_id': '-H5SpOlM8Y4J',\n",
       "  'link': 'https://www.degruyter.com/document/doi/10.7560/320242-003/html',\n",
       "  'snippet': '36 days ago - I read a lot. When I was a boy, I would find my father sitting in the kitchen late at night, smoke curling up from a hand-rolled cigarette, his mind working through a pile of …',\n",
       "  'publication_info': {'summary': 'C Bowden - Mezcal, 2022 - degruyter.com'},\n",
       "  'inline_links': {'serpapi_cite_link': 'https://serpapi.com/search.json?engine=google_scholar_cite&q=-H5SpOlM8Y4J'}},\n",
       " {'position': 5,\n",
       "  'title': 'LONGITUDINAL SUSTAINABILITY ASSESSMENT IN MAGUEY-MEZCAL ARTESANAL PRODUCTION SYSTEMS, IN THE MUNICIPALITY OF VILLA SOLA DE VEGA …',\n",
       "  'result_id': 'xBaHd3Fe378J',\n",
       "  'link': 'https://www.revista.ccba.uady.mx/ojs/index.php/TSA/article/view/4105',\n",
       "  'snippet': '38 days ago - … mezcal subsystem is at a point where it can improve its degree of sustainability based on future mezcal … función de los precios futuros de venta del mezcal. Palabras clave: …',\n",
       "  'publication_info': {'summary': 'AC Rios-Colín, J Ruiz-Vega… - Tropical and …, 2022 - revista.ccba.uady.mx',\n",
       "   'authors': [{'name': 'J Ruiz-Vega',\n",
       "     'link': 'https://scholar.google.com/citations?user=FBlQ15sAAAAJ&hl=en&oi=sra',\n",
       "     'serpapi_scholar_link': 'https://serpapi.com/search.json?author_id=FBlQ15sAAAAJ&engine=google_scholar_author&hl=en',\n",
       "     'author_id': 'FBlQ15sAAAAJ'}]},\n",
       "  'resources': [{'title': 'uady.mx',\n",
       "    'file_format': 'PDF',\n",
       "    'link': 'https://www.revista.ccba.uady.mx/ojs/index.php/TSA/article/download/4105/1776'}],\n",
       "  'inline_links': {'serpapi_cite_link': 'https://serpapi.com/search.json?engine=google_scholar_cite&q=xBaHd3Fe378J',\n",
       "   'related_pages_link': 'https://scholar.google.com/scholar?q=related:xBaHd3Fe378J:scholar.google.com/&scioq=mezcal&hl=en&scisbd=1&as_sdt=0,10',\n",
       "   'cached_page_link': 'https://scholar.googleusercontent.com/scholar?q=cache:xBaHd3Fe378J:scholar.google.com/+mezcal&hl=en&scisbd=1&as_sdt=0,10'}},\n",
       " {'position': 6,\n",
       "  'title': 'Percepción de valor como herramienta para prospectar una gestión sustentable para la industria tradicional del Mezcal',\n",
       "  'result_id': 'rgRlStmligsJ',\n",
       "  'link': 'http://ri-ng.uaq.mx/handle/123456789/3284',\n",
       "  'snippet': '38 days ago - Descripción:\" El presente trabajo de investigación tiene como objetivo describir y analizar desde un acercamiento Construccionista-Fenomenológico al Sistema socio-…',\n",
       "  'publication_info': {'summary': 'AN Pellón - 2022 - ri-ng.uaq.mx'},\n",
       "  'inline_links': {'serpapi_cite_link': 'https://serpapi.com/search.json?engine=google_scholar_cite&q=rgRlStmligsJ',\n",
       "   'cached_page_link': 'http://scholar.googleusercontent.com/scholar?q=cache:rgRlStmligsJ:scholar.google.com/+mezcal&hl=en&scisbd=1&as_sdt=0,10'}},\n",
       " {'position': 7,\n",
       "  'title': 'Commons, global markets and small-scale family enterprises: the case of mezcal production in Oaxaca, Mexico',\n",
       "  'result_id': 'GrtKRCNXaEEJ',\n",
       "  'link': 'https://link.springer.com/article/10.1007/s10460-021-10293-z',\n",
       "  'snippet': '45 days ago - … mezcal production—an alcoholic beverage made from agave—in an Indigenous community in Oaxaca, Mexico. Most mezcal … water) necessary for making mezcal are held …',\n",
       "  'publication_info': {'summary': 'MG Lira, JP Robson, DJ Klooster - Agriculture and Human Values, 2022 - Springer',\n",
       "   'authors': [{'name': 'JP Robson',\n",
       "     'link': 'https://scholar.google.com/citations?user=zVk3YZAAAAAJ&hl=en&oi=sra',\n",
       "     'serpapi_scholar_link': 'https://serpapi.com/search.json?author_id=zVk3YZAAAAAJ&engine=google_scholar_author&hl=en',\n",
       "     'author_id': 'zVk3YZAAAAAJ'}]},\n",
       "  'resources': [{'title': 'researchgate.net',\n",
       "    'file_format': 'PDF',\n",
       "    'link': 'https://www.researchgate.net/profile/James-Robson-3/publication/357718454_Commons_global_markets_and_small-scale_family_enterprises_the_case_of_mezcal_production_in_Oaxaca_Mexico/links/61dc994f323a2268f9978943/Commons-global-markets-and-small-scale-family-enterprises-the-case-of-mezcal-production-in-Oaxaca-Mexico.pdf'}],\n",
       "  'inline_links': {'serpapi_cite_link': 'https://serpapi.com/search.json?engine=google_scholar_cite&q=GrtKRCNXaEEJ',\n",
       "   'related_pages_link': 'https://scholar.google.com/scholar?q=related:GrtKRCNXaEEJ:scholar.google.com/&scioq=mezcal&hl=en&scisbd=1&as_sdt=0,10',\n",
       "   'versions': {'total': 3,\n",
       "    'link': 'https://scholar.google.com/scholar?cluster=4713112819024444186&hl=en&scisbd=1&as_sdt=0,10',\n",
       "    'cluster_id': '4713112819024444186',\n",
       "    'serpapi_scholar_link': 'https://serpapi.com/search.json?as_sdt=0%2C10&cluster=4713112819024444186&engine=google_scholar&hl=en&scisbd=1'}}},\n",
       " {'position': 8,\n",
       "  'title': 'Visitas guiadas a microdestilerías de mezcal. Algunas observaciones etnográficas sobre el agaveturismo en México',\n",
       "  'result_id': 'DqeNcp72fc8J',\n",
       "  'link': 'http://www.culturayrs.unam.mx/index.php/CRS/article/view/881',\n",
       "  'snippet': '48 days ago - Este artículo discute la emergencia, desarrollo y efectos del turismo mezcalero en México a principios del Siglo XXI. En él se examina su nacimiento, desarrollo e …',\n",
       "  'publication_info': {'summary': 'DG Garza - Cultura y Representaciones Sociales - culturayrs.unam.mx'},\n",
       "  'inline_links': {'serpapi_cite_link': 'https://serpapi.com/search.json?engine=google_scholar_cite&q=DqeNcp72fc8J',\n",
       "   'related_pages_link': 'https://scholar.google.com/scholar?q=related:DqeNcp72fc8J:scholar.google.com/&scioq=mezcal&hl=en&scisbd=1&as_sdt=0,10',\n",
       "   'cached_page_link': 'http://scholar.googleusercontent.com/scholar?q=cache:DqeNcp72fc8J:scholar.google.com/+mezcal&hl=en&scisbd=1&as_sdt=0,10'}},\n",
       " {'position': 9,\n",
       "  'title': 'Agave durangensis Vinasse as a Biocide for Forest Pest Control',\n",
       "  'result_id': 'Ka48iBFVo7MJ',\n",
       "  'link': 'https://ojs.cnr.ncsu.edu/index.php/BioRes/article/view/BioRes_17_1_1285_Bailon_Salas_Agave_Vinasse_Biocide_Forest',\n",
       "  'snippet': '50 days ago - … The mezcal vinasse was characterized physicochemically and by its metabolites. … dextrose-mezcal vinasse medium (PDMVM). Therefore, the mezcal vinasse showed …',\n",
       "  'publication_info': {'summary': 'AM Bailon-Salas, LA Ordaz-Diaz… - …, 2022 - ojs.cnr.ncsu.edu',\n",
       "   'authors': [{'name': 'AM Bailon-Salas',\n",
       "     'link': 'https://scholar.google.com/citations?user=euJojqYAAAAJ&hl=en&oi=sra',\n",
       "     'serpapi_scholar_link': 'https://serpapi.com/search.json?author_id=euJojqYAAAAJ&engine=google_scholar_author&hl=en',\n",
       "     'author_id': 'euJojqYAAAAJ'}]},\n",
       "  'inline_links': {'serpapi_cite_link': 'https://serpapi.com/search.json?engine=google_scholar_cite&q=Ka48iBFVo7MJ',\n",
       "   'cached_page_link': 'https://scholar.googleusercontent.com/scholar?q=cache:Ka48iBFVo7MJ:scholar.google.com/+mezcal&hl=en&scisbd=1&as_sdt=0,10'}}]"
      ]
     },
     "execution_count": 28,
     "metadata": {},
     "output_type": "execute_result"
    }
   ],
   "source": [
    "results[\"organic_results\"]"
   ]
  },
  {
   "cell_type": "code",
   "execution_count": 26,
   "metadata": {},
   "outputs": [
    {
     "data": {
      "text/plain": [
       "list"
      ]
     },
     "execution_count": 26,
     "metadata": {},
     "output_type": "execute_result"
    }
   ],
   "source": [
    "type(results[\"organic_results\"])"
   ]
  },
  {
   "cell_type": "code",
   "execution_count": 56,
   "metadata": {},
   "outputs": [
    {
     "data": {
      "text/plain": [
       "{'position': 2,\n",
       " 'title': 'Identification of genes related to hydrolysis and assimilation of Agave fructans in Candida apicola NRRL Y-50540 and Torulaspora delbrueckii NRRL Y-50541 by de …',\n",
       " 'result_id': 'XMP1c7i3j7oJ',\n",
       " 'link': 'https://academic.oup.com/femsyr/advance-article-abstract/doi/10.1093/femsyr/foac005/6515945',\n",
       " 'snippet': '28 days ago - Fructans are the main sugar in agave pine used by yeasts during mezcal fermentation processes, from which Candida apicola NRRL Y-50540 and Torulaspora …',\n",
       " 'publication_info': {'summary': 'LA Muñoz-Miranda, A Pereira-Santana… - FEMS Yeast …, 2022 - academic.oup.com',\n",
       "  'authors': [{'name': 'A Pereira-Santana',\n",
       "    'link': 'https://scholar.google.com/citations?user=Xxj_R_QAAAAJ&hl=en&oi=sra',\n",
       "    'serpapi_scholar_link': 'https://serpapi.com/search.json?author_id=Xxj_R_QAAAAJ&engine=google_scholar_author&hl=en',\n",
       "    'author_id': 'Xxj_R_QAAAAJ'}]},\n",
       " 'inline_links': {'serpapi_cite_link': 'https://serpapi.com/search.json?engine=google_scholar_cite&q=XMP1c7i3j7oJ',\n",
       "  'versions': {'total': 2,\n",
       "   'link': 'https://scholar.google.com/scholar?cluster=13443165415571571548&hl=en&scisbd=1&as_sdt=0,10',\n",
       "   'cluster_id': '13443165415571571548',\n",
       "   'serpapi_scholar_link': 'https://serpapi.com/search.json?as_sdt=0%2C10&cluster=13443165415571571548&engine=google_scholar&hl=en&scisbd=1'}}}"
      ]
     },
     "execution_count": 56,
     "metadata": {},
     "output_type": "execute_result"
    }
   ],
   "source": [
    "results[\"organic_results\"][2]"
   ]
  },
  {
   "cell_type": "code",
   "execution_count": 60,
   "metadata": {},
   "outputs": [
    {
     "data": {
      "text/plain": [
       "8"
      ]
     },
     "execution_count": 60,
     "metadata": {},
     "output_type": "execute_result"
    }
   ],
   "source": [
    "len(results[\"organic_results\"][0].keys())"
   ]
  },
  {
   "cell_type": "code",
   "execution_count": 59,
   "metadata": {},
   "outputs": [
    {
     "data": {
      "text/plain": [
       "9"
      ]
     },
     "execution_count": 59,
     "metadata": {},
     "output_type": "execute_result"
    }
   ],
   "source": [
    "len(results[\"organic_results\"][1].keys())"
   ]
  },
  {
   "cell_type": "code",
   "execution_count": 42,
   "metadata": {},
   "outputs": [],
   "source": [
    "field_names = list(results[\"organic_results\"][0].keys())"
   ]
  },
  {
   "cell_type": "code",
   "execution_count": 46,
   "metadata": {},
   "outputs": [
    {
     "name": "stdout",
     "output_type": "stream",
     "text": [
      "position\n",
      "title\n",
      "result_id\n",
      "link\n",
      "snippet\n",
      "publication_info\n",
      "resources\n",
      "inline_links\n"
     ]
    }
   ],
   "source": [
    "for e in field_names:\n",
    "    print(e)"
   ]
  },
  {
   "cell_type": "code",
   "execution_count": 52,
   "metadata": {},
   "outputs": [
    {
     "data": {
      "text/plain": [
       "10"
      ]
     },
     "execution_count": 52,
     "metadata": {},
     "output_type": "execute_result"
    }
   ],
   "source": [
    "len(results[\"organic_results\"])"
   ]
  },
  {
   "cell_type": "code",
   "execution_count": 54,
   "metadata": {},
   "outputs": [
    {
     "ename": "KeyError",
     "evalue": "'resources'",
     "output_type": "error",
     "traceback": [
      "\u001b[0;31m---------------------------------------------------------------------------\u001b[0m",
      "\u001b[0;31mKeyError\u001b[0m                                  Traceback (most recent call last)",
      "Input \u001b[0;32mIn [54]\u001b[0m, in \u001b[0;36m<module>\u001b[0;34m\u001b[0m\n\u001b[1;32m      3\u001b[0m     articulo \u001b[38;5;241m=\u001b[39m []\n\u001b[1;32m      4\u001b[0m     \u001b[38;5;28;01mfor\u001b[39;00m field \u001b[38;5;129;01min\u001b[39;00m field_names:\n\u001b[0;32m----> 5\u001b[0m         articulo\u001b[38;5;241m.\u001b[39mappend(\u001b[43mresults\u001b[49m\u001b[43m[\u001b[49m\u001b[38;5;124;43m\"\u001b[39;49m\u001b[38;5;124;43morganic_results\u001b[39;49m\u001b[38;5;124;43m\"\u001b[39;49m\u001b[43m]\u001b[49m\u001b[43m[\u001b[49m\u001b[43marticle\u001b[49m\u001b[43m]\u001b[49m\u001b[43m[\u001b[49m\u001b[43mfield\u001b[49m\u001b[43m]\u001b[49m)\n\u001b[1;32m      6\u001b[0m     entradas\u001b[38;5;241m.\u001b[39mappend(articulo)\n\u001b[1;32m      7\u001b[0m entradas\n",
      "\u001b[0;31mKeyError\u001b[0m: 'resources'"
     ]
    }
   ],
   "source": [
    "entradas = []\n",
    "for article in range(len(results[\"organic_results\"])):\n",
    "    articulo = []\n",
    "    for field in field_names:\n",
    "        articulo.append(results[\"organic_results\"][article][field])\n",
    "    entradas.append(articulo)\n",
    "entradas"
   ]
  },
  {
   "cell_type": "code",
   "execution_count": null,
   "metadata": {},
   "outputs": [],
   "source": []
  },
  {
   "cell_type": "code",
   "execution_count": null,
   "metadata": {},
   "outputs": [],
   "source": [
    "\n"
   ]
  },
  {
   "cell_type": "code",
   "execution_count": 41,
   "metadata": {},
   "outputs": [],
   "source": [
    "\n",
    "\n"
   ]
  },
  {
   "cell_type": "code",
   "execution_count": null,
   "metadata": {},
   "outputs": [],
   "source": []
  },
  {
   "cell_type": "code",
   "execution_count": null,
   "metadata": {},
   "outputs": [],
   "source": []
  },
  {
   "cell_type": "code",
   "execution_count": null,
   "metadata": {},
   "outputs": [],
   "source": []
  },
  {
   "cell_type": "code",
   "execution_count": null,
   "metadata": {},
   "outputs": [],
   "source": []
  },
  {
   "cell_type": "code",
   "execution_count": 22,
   "metadata": {},
   "outputs": [
    {
     "data": {
      "text/plain": [
       "[{'query': 'mezcal production',\n",
       "  'link': 'https://scholar.google.com/scholar?hl=en&as_sdt=0,10&qsp=1&q=mezcal+production&qst=br'}]"
      ]
     },
     "execution_count": 22,
     "metadata": {},
     "output_type": "execute_result"
    }
   ],
   "source": [
    "results[\"related_searches\"]"
   ]
  },
  {
   "cell_type": "code",
   "execution_count": 23,
   "metadata": {},
   "outputs": [
    {
     "data": {
      "text/plain": [
       "{'current': 1,\n",
       " 'next': 'https://scholar.google.com/scholar?start=10&q=mezcal&hl=en&scisbd=1&as_sdt=0,10',\n",
       " 'other_pages': {'2': 'https://scholar.google.com/scholar?start=10&q=mezcal&hl=en&scisbd=1&as_sdt=0,10',\n",
       "  '3': 'https://scholar.google.com/scholar?start=20&q=mezcal&hl=en&scisbd=1&as_sdt=0,10',\n",
       "  '4': 'https://scholar.google.com/scholar?start=30&q=mezcal&hl=en&scisbd=1&as_sdt=0,10',\n",
       "  '5': 'https://scholar.google.com/scholar?start=40&q=mezcal&hl=en&scisbd=1&as_sdt=0,10',\n",
       "  '6': 'https://scholar.google.com/scholar?start=50&q=mezcal&hl=en&scisbd=1&as_sdt=0,10',\n",
       "  '7': 'https://scholar.google.com/scholar?start=60&q=mezcal&hl=en&scisbd=1&as_sdt=0,10',\n",
       "  '8': 'https://scholar.google.com/scholar?start=70&q=mezcal&hl=en&scisbd=1&as_sdt=0,10',\n",
       "  '9': 'https://scholar.google.com/scholar?start=80&q=mezcal&hl=en&scisbd=1&as_sdt=0,10'}}"
      ]
     },
     "execution_count": 23,
     "metadata": {},
     "output_type": "execute_result"
    }
   ],
   "source": [
    "results[\"pagination\"]"
   ]
  },
  {
   "cell_type": "code",
   "execution_count": 24,
   "metadata": {},
   "outputs": [
    {
     "data": {
      "text/plain": [
       "{'current': 1,\n",
       " 'next_link': 'https://serpapi.com/search.json?as_sdt=0%2C10&as_ylo=1990&engine=google_scholar&hl=en&q=mezcal&scisbd=1&start=10',\n",
       " 'next': 'https://serpapi.com/search.json?as_sdt=0%2C10&as_ylo=1990&engine=google_scholar&hl=en&q=mezcal&scisbd=1&start=10',\n",
       " 'other_pages': {'2': 'https://serpapi.com/search.json?as_sdt=0%2C10&as_ylo=1990&engine=google_scholar&hl=en&q=mezcal&scisbd=1&start=10',\n",
       "  '3': 'https://serpapi.com/search.json?as_sdt=0%2C10&as_ylo=1990&engine=google_scholar&hl=en&q=mezcal&scisbd=1&start=20',\n",
       "  '4': 'https://serpapi.com/search.json?as_sdt=0%2C10&as_ylo=1990&engine=google_scholar&hl=en&q=mezcal&scisbd=1&start=30',\n",
       "  '5': 'https://serpapi.com/search.json?as_sdt=0%2C10&as_ylo=1990&engine=google_scholar&hl=en&q=mezcal&scisbd=1&start=40',\n",
       "  '6': 'https://serpapi.com/search.json?as_sdt=0%2C10&as_ylo=1990&engine=google_scholar&hl=en&q=mezcal&scisbd=1&start=50',\n",
       "  '7': 'https://serpapi.com/search.json?as_sdt=0%2C10&as_ylo=1990&engine=google_scholar&hl=en&q=mezcal&scisbd=1&start=60',\n",
       "  '8': 'https://serpapi.com/search.json?as_sdt=0%2C10&as_ylo=1990&engine=google_scholar&hl=en&q=mezcal&scisbd=1&start=70',\n",
       "  '9': 'https://serpapi.com/search.json?as_sdt=0%2C10&as_ylo=1990&engine=google_scholar&hl=en&q=mezcal&scisbd=1&start=80'}}"
      ]
     },
     "execution_count": 24,
     "metadata": {},
     "output_type": "execute_result"
    }
   ],
   "source": [
    "results[\"serpapi_pagination\"]"
   ]
  },
  {
   "cell_type": "code",
   "execution_count": 31,
   "metadata": {},
   "outputs": [
    {
     "name": "stdout",
     "output_type": "stream",
     "text": [
      "https://serpapi.com/search\n"
     ]
    }
   ],
   "source": []
  },
  {
   "cell_type": "code",
   "execution_count": null,
   "metadata": {},
   "outputs": [],
   "source": []
  },
  {
   "cell_type": "code",
   "execution_count": null,
   "metadata": {},
   "outputs": [],
   "source": []
  },
  {
   "cell_type": "code",
   "execution_count": null,
   "metadata": {},
   "outputs": [],
   "source": []
  },
  {
   "cell_type": "code",
   "execution_count": null,
   "metadata": {},
   "outputs": [],
   "source": []
  },
  {
   "cell_type": "code",
   "execution_count": null,
   "metadata": {},
   "outputs": [],
   "source": []
  },
  {
   "cell_type": "code",
   "execution_count": null,
   "metadata": {},
   "outputs": [],
   "source": []
  },
  {
   "cell_type": "markdown",
   "metadata": {},
   "source": [
    "from serpapi import GoogleSearch\n",
    "search = GoogleSearch({\"q\": \"Coffee\", \"location\": \"Austin,Texas\", \"api_key\": \"<secret_key>\"})\n",
    "data = search.get_json()\n",
    "assert data[\"error\"] == None"
   ]
  },
  {
   "cell_type": "raw",
   "metadata": {},
   "source": [
    "\n",
    "\n",
    "# to get 2 pages\n",
    "start = 0\n",
    "end = 40\n",
    "page_size = 10\n",
    "\n",
    "# basic search parameters\n",
    "parameter = {\n",
    "  \"q\": \"coca cola\",\n",
    "  \"tbm\": \"nws\",\n",
    "  \"api_key\": os.getenv(\"API_KEY\"),\n",
    "  # optional pagination parameter\n",
    "  #  the pagination method can take argument directly\n",
    "  \"start\": start,\n",
    "  \"end\": end,\n",
    "  \"num\": page_size\n",
    "}\n",
    "\n",
    "# as proof of concept \n",
    "# urls collects\n",
    "urls = []\n",
    "\n",
    "# initialize a search\n",
    "search = GoogleSearch(parameter)\n",
    "\n",
    "# create a python generator using parameter\n",
    "pages = search.pagination()\n",
    "# or set custom parameter\n",
    "pages = search.pagination(start, end, page_size)\n",
    "\n",
    "# fetch one search result per iteration \n",
    "# using a basic python for loop \n",
    "# which invokes python iterator under the hood.\n",
    "for page in pages:\n",
    "  print(f\"Current page: {page['serpapi_pagination']['current']}\")\n",
    "  for news_result in page[\"news_results\"]:\n",
    "    print(f\"Title: {news_result['title']}\\nLink: {news_result['link']}\\n\")\n",
    "    urls.append(news_result['link'])\n",
    "  \n",
    "# check if the total number pages is as expected\n",
    "# note: the exact number if variable depending on the search engine backend\n",
    "if len(urls) == (end - start):\n",
    "  print(\"all search results count match!\")\n",
    "if len(urls) == len(set(urls)):\n",
    "  print(\"all search results are unique!\")"
   ]
  },
  {
   "cell_type": "code",
   "execution_count": null,
   "metadata": {},
   "outputs": [],
   "source": []
  },
  {
   "cell_type": "code",
   "execution_count": null,
   "metadata": {},
   "outputs": [],
   "source": []
  },
  {
   "cell_type": "code",
   "execution_count": null,
   "metadata": {},
   "outputs": [],
   "source": []
  }
 ],
 "metadata": {
  "kernelspec": {
   "display_name": "venv",
   "language": "python",
   "name": "venv"
  },
  "language_info": {
   "codemirror_mode": {
    "name": "ipython",
    "version": 3
   },
   "file_extension": ".py",
   "mimetype": "text/x-python",
   "name": "python",
   "nbconvert_exporter": "python",
   "pygments_lexer": "ipython3",
   "version": "3.8.10"
  }
 },
 "nbformat": 4,
 "nbformat_minor": 4
}
