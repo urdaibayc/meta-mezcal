{
 "cells": [
  {
   "cell_type": "code",
   "execution_count": 1,
   "metadata": {},
   "outputs": [],
   "source": [
    "from scholarly import scholarly, ProxyGenerator"
   ]
  },
  {
   "cell_type": "code",
   "execution_count": 2,
   "metadata": {},
   "outputs": [],
   "source": [
    "pg = ProxyGenerator()\n",
    "success = pg.FreeProxies()\n",
    "scholarly.use_proxy(pg)"
   ]
  },
  {
   "cell_type": "code",
   "execution_count": 3,
   "metadata": {},
   "outputs": [
    {
     "data": {
      "text/plain": [
       "True"
      ]
     },
     "execution_count": 3,
     "metadata": {},
     "output_type": "execute_result"
    }
   ],
   "source": [
    "success"
   ]
  },
  {
   "cell_type": "markdown",
   "metadata": {},
   "source": [
    "## First library test"
   ]
  },
  {
   "cell_type": "markdown",
   "metadata": {},
   "source": [
    "from the quick start:"
   ]
  },
  {
   "cell_type": "code",
   "execution_count": 4,
   "metadata": {},
   "outputs": [],
   "source": [
    "author = next(scholarly.search_author('Steven A Cholewiak'))\n"
   ]
  },
  {
   "cell_type": "code",
   "execution_count": 5,
   "metadata": {},
   "outputs": [
    {
     "name": "stdout",
     "output_type": "stream",
     "text": [
      "{'affiliation': 'Vision Scientist at Google LLC',\n",
      " 'citedby': 399,\n",
      " 'email_domain': '@google.com',\n",
      " 'filled': False,\n",
      " 'interests': ['Depth Cues',\n",
      "               '3D Shape',\n",
      "               'Shape from Texture & Shading',\n",
      "               'Naive Physics',\n",
      "               'Haptics'],\n",
      " 'name': 'Steven A. Cholewiak, PhD',\n",
      " 'scholar_id': '4bahYMkAAAAJ',\n",
      " 'source': 'SEARCH_AUTHOR_SNIPPETS',\n",
      " 'url_picture': 'https://scholar.google.com/citations?view_op=medium_photo&user=4bahYMkAAAAJ'}\n"
     ]
    }
   ],
   "source": [
    "scholarly.pprint(author)"
   ]
  },
  {
   "cell_type": "code",
   "execution_count": 6,
   "metadata": {},
   "outputs": [
    {
     "data": {
      "text/plain": [
       "{'container_type': 'Author',\n",
       " 'filled': [],\n",
       " 'source': <AuthorSource.SEARCH_AUTHOR_SNIPPETS: 'SEARCH_AUTHOR_SNIPPETS'>,\n",
       " 'scholar_id': '4bahYMkAAAAJ',\n",
       " 'url_picture': 'https://scholar.google.com/citations?view_op=medium_photo&user=4bahYMkAAAAJ',\n",
       " 'name': 'Steven A. Cholewiak, PhD',\n",
       " 'affiliation': 'Vision Scientist at Google LLC',\n",
       " 'email_domain': '@google.com',\n",
       " 'interests': ['Depth Cues',\n",
       "  '3D Shape',\n",
       "  'Shape from Texture & Shading',\n",
       "  'Naive Physics',\n",
       "  'Haptics'],\n",
       " 'citedby': 399}"
      ]
     },
     "execution_count": 6,
     "metadata": {},
     "output_type": "execute_result"
    }
   ],
   "source": [
    "author"
   ]
  },
  {
   "cell_type": "markdown",
   "metadata": {},
   "source": [
    "## Testing key words"
   ]
  },
  {
   "cell_type": "code",
   "execution_count": 7,
   "metadata": {},
   "outputs": [],
   "source": [
    "search_query = scholarly.search_keywords(['crowdsourcing', 'privacy'])"
   ]
  },
  {
   "cell_type": "code",
   "execution_count": 8,
   "metadata": {},
   "outputs": [
    {
     "name": "stdout",
     "output_type": "stream",
     "text": [
      "{'affiliation': 'Cornell University',\n",
      " 'citedby': 20600,\n",
      " 'email_domain': '',\n",
      " 'filled': False,\n",
      " 'interests': ['Crowdsourcing',\n",
      "               'privacy',\n",
      "               'social computing',\n",
      "               'game theory',\n",
      "               'user-generated content'],\n",
      " 'name': 'Arpita Ghosh',\n",
      " 'scholar_id': '_cMw1IUAAAAJ',\n",
      " 'source': 'SEARCH_AUTHOR_SNIPPETS',\n",
      " 'url_picture': 'https://scholar.google.com/citations?view_op=medium_photo&user=_cMw1IUAAAAJ'}\n"
     ]
    }
   ],
   "source": [
    "scholarly.pprint(next(search_query))"
   ]
  },
  {
   "cell_type": "code",
   "execution_count": 11,
   "metadata": {},
   "outputs": [
    {
     "name": "stdout",
     "output_type": "stream",
     "text": [
      "{'affiliation': 'Yantai University',\n",
      " 'citedby': 639,\n",
      " 'email_domain': '',\n",
      " 'filled': False,\n",
      " 'interests': ['Internet of Things',\n",
      "               'Crowdsourcing',\n",
      "               'Privacy',\n",
      "               'Algorithm',\n",
      "               'Big Data'],\n",
      " 'name': 'Yingjie Wang',\n",
      " 'scholar_id': 'pchUjqsAAAAJ',\n",
      " 'source': 'SEARCH_AUTHOR_SNIPPETS',\n",
      " 'url_picture': 'https://scholar.google.com/citations?view_op=medium_photo&user=pchUjqsAAAAJ'}\n"
     ]
    }
   ],
   "source": [
    "scholarly.pprint(next(search_query))"
   ]
  },
  {
   "cell_type": "code",
   "execution_count": 12,
   "metadata": {},
   "outputs": [
    {
     "name": "stdout",
     "output_type": "stream",
     "text": [
      "{'affiliation': 'Privacy Engineer, Google',\n",
      " 'citedby': 535,\n",
      " 'email_domain': '@cs.cmu.edu',\n",
      " 'filled': False,\n",
      " 'interests': ['Privacy',\n",
      "               'Natural Language Processing',\n",
      "               'Qualitative and Quantitative Research …',\n",
      "               'Applied Machine Learning',\n",
      "               'Crowdsourcing'],\n",
      " 'name': 'Jaspreet Bhatia',\n",
      " 'scholar_id': '_v7BZBYAAAAJ',\n",
      " 'source': 'SEARCH_AUTHOR_SNIPPETS',\n",
      " 'url_picture': 'https://scholar.google.com/citations?view_op=medium_photo&user=_v7BZBYAAAAJ'}\n"
     ]
    }
   ],
   "source": [
    "scholarly.pprint(next(search_query))"
   ]
  },
  {
   "cell_type": "code",
   "execution_count": null,
   "metadata": {},
   "outputs": [],
   "source": []
  }
 ],
 "metadata": {
  "kernelspec": {
   "display_name": "venv",
   "language": "python",
   "name": "venv"
  },
  "language_info": {
   "codemirror_mode": {
    "name": "ipython",
    "version": 3
   },
   "file_extension": ".py",
   "mimetype": "text/x-python",
   "name": "python",
   "nbconvert_exporter": "python",
   "pygments_lexer": "ipython3",
   "version": "3.8.10"
  }
 },
 "nbformat": 4,
 "nbformat_minor": 4
}
